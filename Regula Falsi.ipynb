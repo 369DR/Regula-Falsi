import numpy as np
import matplotlib.pyplot as plt
from math import e  # Untuk mengambil bilangan eksponen natural (e)

# Mendefinisikan fungsi
def f(x):
    return e**x - 5*x**2

# Sesi Input Nilai awal yang dikonversi ke pecahan
x0 = float(input("x0 : "))
x1 = float(input("x1 : "))
eps = float(input("epsilon : "))

# Metode Regula Falsi
def regulafalse(x0, x1, eps):
    step = 1
    condition = True
    print("\n---METODE REGULAFALSI---\n")
    while condition:
        x2 = x1 - (f(x1)*(x1-x0)/(f(x1)-f(x0)))
        print(f"Iterasi-{step}: x2 = {x2:.6f} dan f(x2) = {f(x2):.6f}")
        if f(x0) * f(x2) < 0:
            x1 = x2
        else:
            x0 = x2
        step += 1
        condition = abs(f(x2)) > eps

    print(f"\nAkar Persamaan tersebut : {x2:.8f} \n")
    # Menggambar fungsi
    x = np.linspace(-10, 10)  # Masukkan nilai tebakan awal
    plt.plot(x, f(x))
    plt.show()
    plt.savefig("fungsi.png")  # Untuk menyimpan gambar fungsi

# Pengecekan nilai awal
if f(x0)*f(x1) > 0:
    print("Nilai yang diprediksi tidak mengurung akar")
    print("Silakan mencoba ulang prediksi nilai baru")
else:
    regulafalse(x0, x1, eps)
